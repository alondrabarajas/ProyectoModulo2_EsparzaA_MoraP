{
 "cells": [
  {
   "cell_type": "markdown",
   "metadata": {},
   "source": [
    "**Proyecto Modulo #2**\n",
    "\n",
    "Alondra Estefania Barajas Esparza\n",
    "\n",
    "Pablo Crowley Mora"
   ]
  },
  {
   "cell_type": "markdown",
   "metadata": {},
   "source": [
    "## \"Análisis de datos financieros en empresas relacionadas con la construcción.\""
   ]
  },
  {
   "cell_type": "markdown",
   "metadata": {},
   "source": [
    "###### > Las empresas de construcción son muy importantes en nuestro entorno, dado que a donde se mire se encontrará una estructura o un edificio que, como fruto de las empresas dedicadas a la construcción, que en este caso analizaremos 4 empresas que estén en el ámbito de la construcción.\n",
    "###### Empresas a analizar en este caso, todas son empresas que operan en Mexico.\n",
    "- **Desarrolladora Homex**\n",
    "- **Grupo Carso, SAB de CV**\n",
    "- **CEMEX, SAB de CV**\n",
    "- **Infraestructura Energética Nova, SAB de CV**\n",
    "###### Por eso con este proyecto daremos a conocer si algunas empresas que se encuentran en la bolsa de valores son susceptibles como punto de inversión."
   ]
  },
  {
   "cell_type": "markdown",
   "metadata": {},
   "source": [
    "## Objetivos\n",
    "\n",
    "\n",
    "##### 1.1 Objetivo general \n",
    "\n",
    "> - El proyecto se tratará de un análisis de precio umbral, de algunas empresas en Yahoo! finance, que tengan que ver con la construcción y sus derivados, analizar el precio de acción conforme lo años, y analizar con Montecarlo alguno de los años, para poder apreciar si tendríamos una oportunidad de inversión y hacer análisis de si la probabilidad es buena o no. en cuanto a valores reales.\n",
    "\n",
    "\n",
    "##### 1.2 Objetivos específicos \n",
    "\n",
    "> - Predecir la evolución de los precios de la acción del 2019, y compararlos con los valores reales (se importara los datos desde 2013 hasta 2018 para poder evaluar sus respectivos comportamientos).\n",
    "> - Obtener las probabilidades del 2019, deseando un aumento del precio umbral del 10% del precio de la acción.\n",
    "> - Realizar comparaciones y Análisis de lo que dicen nuestras probabilidades, contra la realidad.\n",
    "\n",
    "#### 1.3 Modelo que representa el problema.\n",
    "\n",
    "> - En la actualidad Python ha acumulado mucho interés recientemente como una opción de lenguaje para el análisis de datos.\n",
    "\n",
    "> - En este proyecto aplicaremos manejo de datos con la ayuda de pandas, con finalidad de tener una correcta manipulación de estos y hacerlo de forma remota desde Yahoo Finance.\n",
    "> - Utilizaremos pandas_datareader, posteriormente importaremos los datos \n",
    "> -Una vez que se obtienen los datos, dispondremos a ponerlos de manera gráfica para tener una idea más clara, con la finalidad de operar con ellos. \n",
    "> -Usos de la simulación Montecarlo para simulación de escenarios, con la finalidad de obtener probabilidades y con esto tomar decisiones.\n",
    "\n",
    "> - Los precios diarios de cierro ajustados no son un proceso estocástico, pero si los rendimientos diarios, por lo cual procedemos a calcularlos. A partir de los precios de cierre.\n",
    "\n",
    "> - En cuanto a la distribución normal tenemos que:\n",
    "\n",
    "\n",
    "En estadística y probabilidad se llama distribución normal, distribución de Gauss, distribución gaussiana o distribución de Laplace-Gauss, a una de las distribuciones de probabilidad de variable continua que con más frecuencia aparece en estadística y en la teoría de probabilidades.\n",
    "\n",
    "\n",
    "> - Para una sucesión de precios $\\{S_t\\}_{t=0}^{n}$, el rendimiento simple $R_t$ se define como el cambio porcentual\n",
    "\n",
    "$$\n",
    "R_t=\\frac{S_t-S_{t-1}}{S_{t-1}}\\approx \\ln\\left(\\frac{S_t}{S_{t-1}}\\right)=r_t.\n",
    "$$\n",
    "para $t=1,\\ldots,n$.\n",
    "\n",
    "> - Una vez calculados los rendimeintos se calculan precios de cierre.\n",
    "\n",
    "$$\\begin{align}\n",
    "p_i&=p_{i-1}(R_i+1)\\\\\n",
    "p_{i+1}&=p_i(R_{i+1}+1)=p_{i-1}(R_i+1)(R_{i+1}+1)\\\\\n",
    "&\\vdots\\\\\n",
    "p_{i+k}&=p_{i-1}(R_i+1)\\cdots(R_{i+k}+1).\n",
    "\\end{align}$$\n",
    "\n",
    "Si hacemos $i=0$ en la última ecuación, tenemos que $p_{k}=p_{-1}(R_0+1)\\cdots(R_{k}+1)$, donde $p_{-1}$ es el último precio reportado en el año deseado.\n"
   ]
  },
  {
   "cell_type": "code",
   "execution_count": 9,
   "metadata": {},
   "outputs": [
    {
     "ename": "ModuleNotFoundError",
     "evalue": "No module named 'pandas_datareader'",
     "output_type": "error",
     "traceback": [
      "\u001b[1;31m---------------------------------------------------------------------------\u001b[0m",
      "\u001b[1;31mModuleNotFoundError\u001b[0m                       Traceback (most recent call last)",
      "\u001b[1;32m<ipython-input-9-336d04a6fb9b>\u001b[0m in \u001b[0;36m<module>\u001b[1;34m\u001b[0m\n\u001b[0;32m      1\u001b[0m \u001b[1;31m#Primero Importamos las librerias.\u001b[0m\u001b[1;33m\u001b[0m\u001b[1;33m\u001b[0m\u001b[1;33m\u001b[0m\u001b[0m\n\u001b[0;32m      2\u001b[0m \u001b[1;32mimport\u001b[0m \u001b[0mpandas\u001b[0m \u001b[1;32mas\u001b[0m \u001b[0mpd\u001b[0m\u001b[1;33m\u001b[0m\u001b[1;33m\u001b[0m\u001b[0m\n\u001b[1;32m----> 3\u001b[1;33m \u001b[1;32mimport\u001b[0m \u001b[0mpandas_datareader\u001b[0m\u001b[1;33m.\u001b[0m\u001b[0mdata\u001b[0m \u001b[1;32mas\u001b[0m \u001b[0mweb\u001b[0m\u001b[1;33m\u001b[0m\u001b[1;33m\u001b[0m\u001b[0m\n\u001b[0m\u001b[0;32m      4\u001b[0m \u001b[1;32mimport\u001b[0m \u001b[0mnumpy\u001b[0m \u001b[1;32mas\u001b[0m \u001b[0mnp\u001b[0m\u001b[1;33m\u001b[0m\u001b[1;33m\u001b[0m\u001b[0m\n\u001b[0;32m      5\u001b[0m \u001b[1;32mimport\u001b[0m \u001b[0mmatplotlib\u001b[0m\u001b[1;33m.\u001b[0m\u001b[0mpyplot\u001b[0m \u001b[1;32mas\u001b[0m \u001b[0mplt\u001b[0m\u001b[1;33m\u001b[0m\u001b[1;33m\u001b[0m\u001b[0m\n",
      "\u001b[1;31mModuleNotFoundError\u001b[0m: No module named 'pandas_datareader'"
     ]
    }
   ],
   "source": [
    "#Primero Importamos las librerias.\n",
    "import pandas as pd\n",
    "import pandas_datareader.data as web\n",
    "import numpy as np\n",
    "import matplotlib.pyplot as plt\n",
    "%matplotlib inline"
   ]
  },
  {
   "cell_type": "code",
   "execution_count": null,
   "metadata": {},
   "outputs": [],
   "source": [
    "#Nuestra funcion para poder bajar datos de Yahoo! finance.\n",
    "def get_closes(names, start_date, end_date):\n",
    "    closes = web.DataReader(name=names,\n",
    "                           data_source=\"yahoo\",\n",
    "                           start=start_date,\n",
    "                           end=end_date)\n",
    "    return closes['Adj Close']"
   ]
  },
  {
   "cell_type": "code",
   "execution_count": null,
   "metadata": {},
   "outputs": [],
   "source": [
    "# Precios\n",
    "names = ['HOMEX.MX','GCARSOA1.MX','CEMEXCPO.MX','IENOVA.MX']\n",
    "start, end = '2013-01-01', '2018-12-31'\n",
    "closes = get_closes(names=names, start_date=start, end_date=end)"
   ]
  },
  {
   "cell_type": "code",
   "execution_count": null,
   "metadata": {},
   "outputs": [],
   "source": [
    "closes.plot(figsize=(10,6));"
   ]
  },
  {
   "cell_type": "markdown",
   "metadata": {},
   "source": [
    "**- Ahora se procederá a calcular rendimientos porcentuales diarios de los 4 activos junto con sus características estadísticas y a su respectiva graficación.**"
   ]
  },
  {
   "cell_type": "code",
   "execution_count": null,
   "metadata": {},
   "outputs": [],
   "source": [
    "ret = closes.pct_change().dropna()\n",
    "ret.plot(figsize=(10,6));"
   ]
  },
  {
   "cell_type": "code",
   "execution_count": null,
   "metadata": {},
   "outputs": [],
   "source": [
    "# Calculamos media y desviación estándar modo de hacerlo donde:\n",
    "#Mu es la media\n",
    "#Std la desviación estandar\n",
    "\n",
    "#mu_HOMEX = ret.mean()['HOMEX.MX']\n",
    "#sigma_HOMEX = ret.std()['HOMEX.MX']\n",
    "\n",
    "#mu_HOMEX,sigma_HOMEX"
   ]
  },
  {
   "cell_type": "code",
   "execution_count": null,
   "metadata": {},
   "outputs": [],
   "source": [
    "\n",
    "mu_HOMEX, mu_GCARSOA1, mu_CEMEXCPO, mu_IENOVA = ret.mean()['HOMEX.MX'], ret.mean()['GCARSOA1.MX'], ret.mean()['CEMEXCPO.MX'],  ret.mean()['IENOVA.MX']\n",
    "std_HOMEX, std_GCARSOA1, std_CEMEXCPO, std_IENOVA = ret.std()['HOMEX.MX'], ret.std()['GCARSOA1.MX'], ret.std()['CEMEXCPO.MX'], ret.std()['IENOVA.MX']\n",
    "\n",
    "mu_HOMEX, mu_GCARSOA1, mu_CEMEXCPO, mu_IENOVA, std_HOMEX, std_GCARSOA1, std_CEMEXCPO, std_IENOVA"
   ]
  },
  {
   "cell_type": "markdown",
   "metadata": {},
   "source": [
    "**> Ahora simularemos 1000 escenarios de rendimientos diarios para el año 2019 para cada empresa, para despues encontrar sus respectivos precios al cierre, y graficaquemos los precios simulados por empresa.**"
   ]
  },
  {
   "cell_type": "code",
   "execution_count": null,
   "metadata": {},
   "outputs": [],
   "source": [
    "# Funcion a utilizar:\n",
    "def ret_sim(mu,sigma,ndays,nscen,start_date):\n",
    "    dates = pd.date_range(start = start_date,periods=ndays)\n",
    "    rend_sim = sigma*np.random.randn(ndays,nscen) + mu\n",
    "    return pd.DataFrame(index = dates, data = rend_sim)"
   ]
  },
  {
   "cell_type": "code",
   "execution_count": null,
   "metadata": {},
   "outputs": [],
   "source": [
    "# Definicíon de parametros:\n",
    "simret_HOMEX = ret_sim(mu_HOMEX, std_HOMEX, 365, 1000, '2019-01-01')\n",
    "simret_GCARSOA1 = ret_sim(mu_GCARSOA1 ,std_GCARSOA1 , 365, 1000, '2019-01-01')\n",
    "simret_CEMEXCPO = ret_sim(mu_CEMEXCPO,std_CEMEXCPO, 365, 1000, '2019-01-01')\n",
    "simret_IENOVA = ret_sim(mu_IENOVA ,std_IENOVA , 365, 1000, '2019-01-01')"
   ]
  },
  {
   "cell_type": "code",
   "execution_count": null,
   "metadata": {},
   "outputs": [],
   "source": [
    "# la definición de los precios de cierre\n",
    "simcloses_HOMEX = closes.iloc[-1]['HOMEX.MX']*((1+simret_HOMEX).cumprod())"
   ]
  },
  {
   "cell_type": "code",
   "execution_count": 2,
   "metadata": {},
   "outputs": [
    {
     "ename": "NameError",
     "evalue": "name 'closes' is not defined",
     "output_type": "error",
     "traceback": [
      "\u001b[1;31m---------------------------------------------------------------------------\u001b[0m",
      "\u001b[1;31mNameError\u001b[0m                                 Traceback (most recent call last)",
      "\u001b[1;32m<ipython-input-2-cf42c4a9725c>\u001b[0m in \u001b[0;36m<module>\u001b[1;34m\u001b[0m\n\u001b[1;32m----> 1\u001b[1;33m \u001b[0msimcloses_GCARSOA1\u001b[0m \u001b[1;33m=\u001b[0m \u001b[0mcloses\u001b[0m\u001b[1;33m.\u001b[0m\u001b[0miloc\u001b[0m\u001b[1;33m[\u001b[0m\u001b[1;33m-\u001b[0m\u001b[1;36m1\u001b[0m\u001b[1;33m]\u001b[0m\u001b[1;33m[\u001b[0m\u001b[1;34m'GCARSOA1.MX'\u001b[0m\u001b[1;33m]\u001b[0m\u001b[1;33m*\u001b[0m\u001b[1;33m(\u001b[0m\u001b[1;33m(\u001b[0m\u001b[1;36m1\u001b[0m\u001b[1;33m+\u001b[0m\u001b[0msimret_GCARSOA1\u001b[0m\u001b[1;33m)\u001b[0m\u001b[1;33m.\u001b[0m\u001b[0mcumprod\u001b[0m\u001b[1;33m(\u001b[0m\u001b[1;33m)\u001b[0m\u001b[1;33m)\u001b[0m\u001b[1;33m\u001b[0m\u001b[1;33m\u001b[0m\u001b[0m\n\u001b[0m",
      "\u001b[1;31mNameError\u001b[0m: name 'closes' is not defined"
     ]
    }
   ],
   "source": [
    "simcloses_GCARSOA1 = closes.iloc[-1]['GCARSOA1.MX']*((1+simret_GCARSOA1).cumprod())"
   ]
  },
  {
   "cell_type": "code",
   "execution_count": 3,
   "metadata": {},
   "outputs": [
    {
     "ename": "NameError",
     "evalue": "name 'closes' is not defined",
     "output_type": "error",
     "traceback": [
      "\u001b[1;31m---------------------------------------------------------------------------\u001b[0m",
      "\u001b[1;31mNameError\u001b[0m                                 Traceback (most recent call last)",
      "\u001b[1;32m<ipython-input-3-9ece7632c9a4>\u001b[0m in \u001b[0;36m<module>\u001b[1;34m\u001b[0m\n\u001b[1;32m----> 1\u001b[1;33m \u001b[0msimcloses_CEMEXCPO\u001b[0m \u001b[1;33m=\u001b[0m \u001b[0mcloses\u001b[0m\u001b[1;33m.\u001b[0m\u001b[0miloc\u001b[0m\u001b[1;33m[\u001b[0m\u001b[1;33m-\u001b[0m\u001b[1;36m1\u001b[0m\u001b[1;33m]\u001b[0m\u001b[1;33m[\u001b[0m\u001b[1;34m'CEMEXCPO.MX'\u001b[0m\u001b[1;33m]\u001b[0m\u001b[1;33m*\u001b[0m\u001b[1;33m(\u001b[0m\u001b[1;33m(\u001b[0m\u001b[1;36m1\u001b[0m\u001b[1;33m+\u001b[0m\u001b[0msimret_CEMEXCPO\u001b[0m\u001b[1;33m)\u001b[0m\u001b[1;33m.\u001b[0m\u001b[0mcumprod\u001b[0m\u001b[1;33m(\u001b[0m\u001b[1;33m)\u001b[0m\u001b[1;33m)\u001b[0m\u001b[1;33m\u001b[0m\u001b[1;33m\u001b[0m\u001b[0m\n\u001b[0m",
      "\u001b[1;31mNameError\u001b[0m: name 'closes' is not defined"
     ]
    }
   ],
   "source": [
    "simcloses_CEMEXCPO = closes.iloc[-1]['CEMEXCPO.MX']*((1+simret_CEMEXCPO).cumprod())"
   ]
  },
  {
   "cell_type": "code",
   "execution_count": 4,
   "metadata": {},
   "outputs": [
    {
     "ename": "NameError",
     "evalue": "name 'closes' is not defined",
     "output_type": "error",
     "traceback": [
      "\u001b[1;31m---------------------------------------------------------------------------\u001b[0m",
      "\u001b[1;31mNameError\u001b[0m                                 Traceback (most recent call last)",
      "\u001b[1;32m<ipython-input-4-9754b9436457>\u001b[0m in \u001b[0;36m<module>\u001b[1;34m\u001b[0m\n\u001b[1;32m----> 1\u001b[1;33m \u001b[0msimcloses_IENOVA\u001b[0m \u001b[1;33m=\u001b[0m \u001b[0mcloses\u001b[0m\u001b[1;33m.\u001b[0m\u001b[0miloc\u001b[0m\u001b[1;33m[\u001b[0m\u001b[1;33m-\u001b[0m\u001b[1;36m1\u001b[0m\u001b[1;33m]\u001b[0m\u001b[1;33m[\u001b[0m\u001b[1;34m'IENOVA.MX'\u001b[0m\u001b[1;33m]\u001b[0m\u001b[1;33m*\u001b[0m\u001b[1;33m(\u001b[0m\u001b[1;33m(\u001b[0m\u001b[1;36m1\u001b[0m\u001b[1;33m+\u001b[0m\u001b[0msimret_IENOVA\u001b[0m\u001b[1;33m)\u001b[0m\u001b[1;33m.\u001b[0m\u001b[0mcumprod\u001b[0m\u001b[1;33m(\u001b[0m\u001b[1;33m)\u001b[0m\u001b[1;33m)\u001b[0m\u001b[1;33m\u001b[0m\u001b[1;33m\u001b[0m\u001b[0m\n\u001b[0m",
      "\u001b[1;31mNameError\u001b[0m: name 'closes' is not defined"
     ]
    }
   ],
   "source": [
    "simcloses_IENOVA = closes.iloc[-1]['IENOVA.MX']*((1+simret_IENOVA).cumprod())"
   ]
  },
  {
   "cell_type": "code",
   "execution_count": 5,
   "metadata": {},
   "outputs": [
    {
     "ename": "NameError",
     "evalue": "name 'simcloses_HOMEX' is not defined",
     "output_type": "error",
     "traceback": [
      "\u001b[1;31m---------------------------------------------------------------------------\u001b[0m",
      "\u001b[1;31mNameError\u001b[0m                                 Traceback (most recent call last)",
      "\u001b[1;32m<ipython-input-5-18fc9fcfa220>\u001b[0m in \u001b[0;36m<module>\u001b[1;34m\u001b[0m\n\u001b[0;32m      1\u001b[0m \u001b[1;31m# La graficación:\u001b[0m\u001b[1;33m\u001b[0m\u001b[1;33m\u001b[0m\u001b[1;33m\u001b[0m\u001b[0m\n\u001b[1;32m----> 2\u001b[1;33m \u001b[0msimcloses_HOMEX\u001b[0m\u001b[1;33m.\u001b[0m\u001b[0mplot\u001b[0m\u001b[1;33m(\u001b[0m\u001b[0mfigsize\u001b[0m\u001b[1;33m=\u001b[0m\u001b[1;33m(\u001b[0m\u001b[1;36m10\u001b[0m\u001b[1;33m,\u001b[0m\u001b[1;36m8\u001b[0m\u001b[1;33m)\u001b[0m\u001b[1;33m,\u001b[0m\u001b[0mlegend\u001b[0m\u001b[1;33m=\u001b[0m\u001b[1;32mFalse\u001b[0m\u001b[1;33m)\u001b[0m\u001b[1;33m;\u001b[0m\u001b[1;33m\u001b[0m\u001b[1;33m\u001b[0m\u001b[0m\n\u001b[0m",
      "\u001b[1;31mNameError\u001b[0m: name 'simcloses_HOMEX' is not defined"
     ]
    }
   ],
   "source": [
    "# La graficación:\n",
    "simcloses_HOMEX.plot(figsize=(10,8),legend=False);"
   ]
  },
  {
   "cell_type": "code",
   "execution_count": 6,
   "metadata": {},
   "outputs": [
    {
     "ename": "NameError",
     "evalue": "name 'simcloses_GCARSOA1' is not defined",
     "output_type": "error",
     "traceback": [
      "\u001b[1;31m---------------------------------------------------------------------------\u001b[0m",
      "\u001b[1;31mNameError\u001b[0m                                 Traceback (most recent call last)",
      "\u001b[1;32m<ipython-input-6-eb7efcb1f30a>\u001b[0m in \u001b[0;36m<module>\u001b[1;34m\u001b[0m\n\u001b[0;32m      1\u001b[0m \u001b[1;31m# La graficación:\u001b[0m\u001b[1;33m\u001b[0m\u001b[1;33m\u001b[0m\u001b[1;33m\u001b[0m\u001b[0m\n\u001b[1;32m----> 2\u001b[1;33m \u001b[0msimcloses_GCARSOA1\u001b[0m\u001b[1;33m.\u001b[0m\u001b[0mplot\u001b[0m\u001b[1;33m(\u001b[0m\u001b[0mfigsize\u001b[0m\u001b[1;33m=\u001b[0m\u001b[1;33m(\u001b[0m\u001b[1;36m10\u001b[0m\u001b[1;33m,\u001b[0m\u001b[1;36m8\u001b[0m\u001b[1;33m)\u001b[0m\u001b[1;33m,\u001b[0m\u001b[0mlegend\u001b[0m\u001b[1;33m=\u001b[0m\u001b[1;32mFalse\u001b[0m\u001b[1;33m)\u001b[0m\u001b[1;33m;\u001b[0m\u001b[1;33m\u001b[0m\u001b[1;33m\u001b[0m\u001b[0m\n\u001b[0m",
      "\u001b[1;31mNameError\u001b[0m: name 'simcloses_GCARSOA1' is not defined"
     ]
    }
   ],
   "source": [
    "# La graficación:\n",
    "simcloses_GCARSOA1.plot(figsize=(10,8),legend=False);"
   ]
  },
  {
   "cell_type": "code",
   "execution_count": 7,
   "metadata": {},
   "outputs": [
    {
     "ename": "NameError",
     "evalue": "name 'simcloses_CEMEXCPO' is not defined",
     "output_type": "error",
     "traceback": [
      "\u001b[1;31m---------------------------------------------------------------------------\u001b[0m",
      "\u001b[1;31mNameError\u001b[0m                                 Traceback (most recent call last)",
      "\u001b[1;32m<ipython-input-7-ffabc6f56547>\u001b[0m in \u001b[0;36m<module>\u001b[1;34m\u001b[0m\n\u001b[0;32m      1\u001b[0m \u001b[1;31m# La graficación:\u001b[0m\u001b[1;33m\u001b[0m\u001b[1;33m\u001b[0m\u001b[1;33m\u001b[0m\u001b[0m\n\u001b[1;32m----> 2\u001b[1;33m \u001b[0msimcloses_CEMEXCPO\u001b[0m\u001b[1;33m.\u001b[0m\u001b[0mplot\u001b[0m\u001b[1;33m(\u001b[0m\u001b[0mfigsize\u001b[0m\u001b[1;33m=\u001b[0m\u001b[1;33m(\u001b[0m\u001b[1;36m10\u001b[0m\u001b[1;33m,\u001b[0m\u001b[1;36m8\u001b[0m\u001b[1;33m)\u001b[0m\u001b[1;33m,\u001b[0m\u001b[0mlegend\u001b[0m\u001b[1;33m=\u001b[0m\u001b[1;32mFalse\u001b[0m\u001b[1;33m)\u001b[0m\u001b[1;33m;\u001b[0m\u001b[1;33m\u001b[0m\u001b[1;33m\u001b[0m\u001b[0m\n\u001b[0m",
      "\u001b[1;31mNameError\u001b[0m: name 'simcloses_CEMEXCPO' is not defined"
     ]
    }
   ],
   "source": [
    "# La graficación:\n",
    "simcloses_CEMEXCPO.plot(figsize=(10,8),legend=False);"
   ]
  },
  {
   "cell_type": "code",
   "execution_count": 8,
   "metadata": {},
   "outputs": [
    {
     "ename": "NameError",
     "evalue": "name 'simcloses_IENOVA' is not defined",
     "output_type": "error",
     "traceback": [
      "\u001b[1;31m---------------------------------------------------------------------------\u001b[0m",
      "\u001b[1;31mNameError\u001b[0m                                 Traceback (most recent call last)",
      "\u001b[1;32m<ipython-input-8-7ff659fd6171>\u001b[0m in \u001b[0;36m<module>\u001b[1;34m\u001b[0m\n\u001b[0;32m      1\u001b[0m \u001b[1;31m# La graficación:\u001b[0m\u001b[1;33m\u001b[0m\u001b[1;33m\u001b[0m\u001b[1;33m\u001b[0m\u001b[0m\n\u001b[1;32m----> 2\u001b[1;33m \u001b[0msimcloses_IENOVA\u001b[0m\u001b[1;33m.\u001b[0m\u001b[0mplot\u001b[0m\u001b[1;33m(\u001b[0m\u001b[0mfigsize\u001b[0m\u001b[1;33m=\u001b[0m\u001b[1;33m(\u001b[0m\u001b[1;36m10\u001b[0m\u001b[1;33m,\u001b[0m\u001b[1;36m8\u001b[0m\u001b[1;33m)\u001b[0m\u001b[1;33m,\u001b[0m\u001b[0mlegend\u001b[0m\u001b[1;33m=\u001b[0m\u001b[1;32mFalse\u001b[0m\u001b[1;33m)\u001b[0m\u001b[1;33m;\u001b[0m\u001b[1;33m\u001b[0m\u001b[1;33m\u001b[0m\u001b[0m\n\u001b[0m",
      "\u001b[1;31mNameError\u001b[0m: name 'simcloses_IENOVA' is not defined"
     ]
    }
   ],
   "source": [
    "# La graficación:\n",
    "simcloses_IENOVA.plot(figsize=(10,8),legend=False);"
   ]
  },
  {
   "cell_type": "markdown",
   "metadata": {},
   "source": [
    "**> Ahora bien se calculará las probabilidades de que el ultimo precio de nuestra acción sea 15%.**"
   ]
  },
  {
   "cell_type": "code",
   "execution_count": null,
   "metadata": {},
   "outputs": [],
   "source": [
    "# Probabilidad de Desarrolladora Homex, SAB de CV de aumentar un 15% el valor de su acción.\n",
    "K_HOMEX = (1+0.15)*closes.iloc[-1]['HOMEX.MX']\n",
    "DF = simcloses_HOMEX>K_HOMEX\n",
    "prob = pd.DataFrame(DF.sum(axis=1)/1000)\n",
    "prob.plot(figsize=(10,6), grid=True);"
   ]
  },
  {
   "cell_type": "code",
   "execution_count": null,
   "metadata": {},
   "outputs": [],
   "source": [
    "# Precio objetivo:\n",
    "K_HOMEX"
   ]
  },
  {
   "cell_type": "code",
   "execution_count": null,
   "metadata": {},
   "outputs": [],
   "source": [
    " # Probabilidad de Grupo Carso, SAB de CV de aumentar un 15% el valor de su acción.\n",
    "K_GCARSOA1= (1+0.15)*closes.iloc[-1]['GCARSOA1.MX']\n",
    "DF = simcloses_GCARSOA1>K_GCARSOA1\n",
    "prob = pd.DataFrame(DF.sum(axis=1)/1000)\n",
    "prob.plot(figsize=(10,6), grid=True);"
   ]
  },
  {
   "cell_type": "code",
   "execution_count": null,
   "metadata": {},
   "outputs": [],
   "source": [
    "# Precio objetivo:\n",
    "K_GCARSOA1"
   ]
  },
  {
   "cell_type": "code",
   "execution_count": null,
   "metadata": {},
   "outputs": [],
   "source": [
    "# Probabilidad de CEMEX, SAB de CV de aumentar un 15% el valor de su acción.\n",
    "K_CEMEXCPO = (1+0.15)*closes.iloc[-1]['CEMEXCPO.MX']\n",
    "DF = simcloses_CEMEXCPO>K_CEMEXCPO \n",
    "prob = pd.DataFrame(DF.sum(axis=1)/1000)\n",
    "prob.plot(figsize=(10,6), grid=True);"
   ]
  },
  {
   "cell_type": "code",
   "execution_count": null,
   "metadata": {},
   "outputs": [],
   "source": [
    "# Precio objetivo:\n",
    "K_CEMEXCPO"
   ]
  },
  {
   "cell_type": "code",
   "execution_count": null,
   "metadata": {},
   "outputs": [],
   "source": [
    "# Probabilidad de Infraestructura Energética Nova, SAB de CV de aumentar un 15% el valor de su acción.\n",
    "K_IENOVA= (1+0.1)*closes.iloc[-1]['IENOVA.MX']\n",
    "DF = simcloses_IENOVA>K_IENOVA\n",
    "prob = pd.DataFrame(DF.sum(axis=1)/1000)\n",
    "prob.plot(figsize=(10,6), grid=True);"
   ]
  },
  {
   "cell_type": "code",
   "execution_count": null,
   "metadata": {},
   "outputs": [],
   "source": [
    "# Precio objetivo:\n",
    "K_IENOVA"
   ]
  },
  {
   "cell_type": "markdown",
   "metadata": {},
   "source": [
    "**> Se descargarán los datos de los activos de cada empresa del año 2019 y se procederá hacer un análisis de estos datos reales contra las probabilidades de cada una de las empresas..**"
   ]
  },
  {
   "cell_type": "code",
   "execution_count": null,
   "metadata": {},
   "outputs": [],
   "source": [
    "#Año completo Desarrolladora Homex, SAB de CV 2019.\n",
    "start, end = '2019-01-01', '2019-12-31'\n",
    "name = ['HOMEX.MX']\n",
    "closes2019 = get_closes(names=name, start_date=start, end_date=end)\n",
    "closes2019.plot(figsize=(10,6));"
   ]
  },
  {
   "cell_type": "code",
   "execution_count": null,
   "metadata": {},
   "outputs": [],
   "source": [
    "#Año completo CEMEX, SAB de CV  2019.\n",
    "start, end = '2019-01-01', '2019-12-31'\n",
    "name = ['CEMEXCPO.MX']\n",
    "closes2019 = get_closes(names=name, start_date=start, end_date=end)\n",
    "closes2019.plot(figsize=(10,6));"
   ]
  },
  {
   "cell_type": "code",
   "execution_count": null,
   "metadata": {},
   "outputs": [],
   "source": [
    "#Año completo Infraestructura Energética Nova, SAB de CV 2019.\n",
    "start, end = '2019-01-01', '2019-12-31'\n",
    "name = ['IENOVA.MX']\n",
    "closes2019 = get_closes(names=name, start_date=start, end_date=end)\n",
    "closes2019.plot(figsize=(10,6));"
   ]
  },
  {
   "cell_type": "markdown",
   "metadata": {},
   "source": [
    "# Análisis de probabilidades en cuanto a datos reales Desarrolladora Homex, SAB de CV.\n",
    "\n",
    "## Precio objetivo de 0.17 DLLS\n",
    "\n",
    "\n",
    "### Primer trimestre Enero-Marzo 2019.\n",
    "\n",
    "- Precio Real 0.16-0.20\n",
    "- Probabilidad 0% - 17.5%\n",
    "- Aquí si se obtuvo por el trimestre un valor arriba de 0.17, y como nos ejemplifica la tabla de probabilidad esta empresa tiende a elevar su precio a inicios del año.\n",
    "\n",
    "### Segundo trimestre Abril-Junio 2019.\n",
    "\n",
    "- Precio Real 0.16-0.8\n",
    "- Probabilidad 17.5% - 8%\n",
    "- Como se observa aquí bajo el valor real junto con la probabilidad.\n",
    "\n",
    "\n",
    "### Tercer trimestre Julio-Septiembre 2019.\n",
    "\n",
    "- Precio Real 0.8-0.8\n",
    "- Probabilidad 8% - 6%\n",
    "- El precio se mantuvo, pero la posibilidad bajo a poder tener el 10% de utilidad.\n",
    "\n",
    "### Cuarto trimestre Octubre-Diciembre 2019.\n",
    "\n",
    "- Precio Real 0.8-0.95\n",
    "- Probabilidad 6% - 3%\n",
    "- Como se observa la empresa al final de año recupero un poco su precio, pero no cumplió con su objetivo, por lo que la probabilidad también se va por los suelos.\n"
   ]
  },
  {
   "cell_type": "markdown",
   "metadata": {},
   "source": [
    "# Análisis de probabilidades en cuanto a datos reales Grupo Carso, SAB de CV\n",
    "\n",
    "## Precio objetivo de 80 DLLS\n",
    "\n",
    "\n",
    "### Primer trimestre Enero-Marzo 2019.\n",
    "\n",
    "- Precio Real 73-77\n",
    "- Probabilidad 0% - 25%\n",
    "- Se obtuvo un valor cercano al 10% de la utilidad, se tenia una probabilidad de un 25%.\n",
    "\n",
    "### Segundo trimestre Abril-Junio 2019.\n",
    "\n",
    "- Precio Real 68-73\n",
    "- Probabilidad 25% - 35%\n",
    "- Como se observa aquí bajo el valor real junto con la probabilidad.\n",
    "\n",
    "\n",
    "### Tercer trimestre Julio-Septiembre 2019.\n",
    "\n",
    "- Precio Real 51-73\n",
    "- Probabilidad 35% - 38%\n",
    "- En este trimestre tuvo una caída algo desfavorable el valor de la acción esta empresa.\n",
    "\n",
    "### Cuarto trimestre Octubre-Diciembre 2019.\n",
    "\n",
    "- Precio Real 57-72\n",
    "- Probabilidad 38% - 42%\n",
    "- La empresa se recuperó y termino con el mismo precio que empezó."
   ]
  },
  {
   "cell_type": "markdown",
   "metadata": {},
   "source": [
    "# Análisis de probabilidades en cuanto a datos reales CEMEX, SAB de CV\n",
    "\n",
    "## Precio objetivo de 11 DLLS\n",
    "\n",
    "\n",
    "### Primer trimestre Enero-Marzo 2019.\n",
    "\n",
    "- Precio Real 8.5-10.5\n",
    "- Probabilidad 0% - 20%\n",
    "- Se obtuvo un valor cercano al 10% de la utilidad, se tenía una probabilidad de un 20%.\n",
    "\n",
    "### Segundo trimestre Abril-Junio 2019.\n",
    "\n",
    "- Precio Real 7.5-9.5\n",
    "- Probabilidad 20% - 22.5%\n",
    "- Se observo un declive y después una ascensión, pero la probabilidad sigue siendo muy baja.\n",
    "\n",
    "\n",
    "### Tercer trimestre Julio-Septiembre 2019.\n",
    "\n",
    "- Precio Real 5.50-8.2\n",
    "- Probabilidad 22.5% - 28%\n",
    "- En este trimestre fue el más bajo para el precio de la acción de la empresa.\n",
    "\n",
    "### Cuarto trimestre Octubre-Diciembre 2019.\n",
    "\n",
    "- Precio Real 7-8\n",
    "- Probabilidad 28% - 25%\n",
    "- La empresa perdió valor comercial ante la bolsa y la probabilidad nos lo dice.\n"
   ]
  },
  {
   "cell_type": "markdown",
   "metadata": {},
   "source": [
    "# Análisis de probabilidades en cuanto a datos reales Infraestructura Energética Nova, SAB de CV\n",
    "\n",
    "## Precio objetivo de 81 DLLS\n",
    "\n",
    "\n",
    "### Primer trimestre Enero-Marzo 2019.\n",
    "\n",
    "- Precio Real 70-81\n",
    "- Probabilidad 0% - 38%\n",
    "- Esta empresa logro su objetivo en el primer trimestre aparte de comenzar con una probabilidad alta.\n",
    "\n",
    "### Segundo trimestre Abril-Junio 2019.\n",
    "\n",
    "- Precio Real 73-84\n",
    "- Probabilidad 38% - 48%\n",
    "- LA empresa sigue teniendo momentos en donde su valor ya pasa el 10% de utilidad esperado y ta,bien baja pero no a numeros negativos. Ya entro al 50 de probabilidad de pasar nuestro limite establecido de 10%\n",
    "\n",
    "\n",
    "### Tercer trimestre Julio-Septiembre 2019.\n",
    "\n",
    "- Precio Real 75-85\n",
    "- Probabilidad 48% - 55%\n",
    "- Esta empresa va muy estable en cuanto a elevar su precio requiere, ya que sigue sin prensentar numero negativos.\n",
    "\n",
    "### Cuarto trimestre Octubre-Diciembre 2019.\n",
    "\n",
    "- Precio Real 82-90\n",
    "- Probabilidad 55% - 65%\n",
    "- Como podemos observar la empresa termino el año mas arriba del objetivo que nosotros habiamos propuestos, y con una probabilidad ya de 65% por lo que nuestra probabilidad es correcta y esta es la **mejor empresa de las 4 para invertir.** \n"
   ]
  },
  {
   "cell_type": "markdown",
   "metadata": {},
   "source": [
    "## Conclusión\n",
    "Con este tipo de métodos deductivos, y con los correctos datos financieros, podemos tomar mejores decisiones a la hora de pensar si queremos invertir en la bolsa o no, como vemos nuestras probabilidades acertaban mucho en cuanto a cómo se comportan estas empresas en el año 2019 con base en los datos que obtuvimos de los años atrás. \n",
    "Creo que es importante dale la importancia a este tipo de métodos antes de tomar una decisión en cuanto a invertir se refiere."
   ]
  }
 ],
 "metadata": {
  "kernelspec": {
   "display_name": "Python 3",
   "language": "python",
   "name": "python3"
  },
  "language_info": {
   "codemirror_mode": {
    "name": "ipython",
    "version": 3
   },
   "file_extension": ".py",
   "mimetype": "text/x-python",
   "name": "python",
   "nbconvert_exporter": "python",
   "pygments_lexer": "ipython3",
   "version": "3.8.3"
  }
 },
 "nbformat": 4,
 "nbformat_minor": 4
}
